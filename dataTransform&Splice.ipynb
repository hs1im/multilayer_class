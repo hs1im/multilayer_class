{
 "cells": [
  {
   "cell_type": "code",
   "execution_count": 1,
   "metadata": {},
   "outputs": [],
   "source": [
    "from dataTransform import dataTransform\n",
    "from sklearn.model_selection import train_test_split\n",
    "import pandas as pd"
   ]
  },
  {
   "cell_type": "code",
   "execution_count": 2,
   "metadata": {},
   "outputs": [],
   "source": [
    "random_seed=42\n",
    "filePath='Data/eq2015_modify_category.csv'"
   ]
  },
  {
   "cell_type": "code",
   "execution_count": 3,
   "metadata": {},
   "outputs": [],
   "source": [
    "df = pd.read_csv(filePath)\n",
    "df= dataTransform(df,toNumpy=False,dropColumns=False)"
   ]
  },
  {
   "cell_type": "code",
   "execution_count": 4,
   "metadata": {},
   "outputs": [
    {
     "data": {
      "text/html": [
       "<div>\n",
       "<style scoped>\n",
       "    .dataframe tbody tr th:only-of-type {\n",
       "        vertical-align: middle;\n",
       "    }\n",
       "\n",
       "    .dataframe tbody tr th {\n",
       "        vertical-align: top;\n",
       "    }\n",
       "\n",
       "    .dataframe thead th {\n",
       "        text-align: right;\n",
       "    }\n",
       "</style>\n",
       "<table border=\"1\" class=\"dataframe\">\n",
       "  <thead>\n",
       "    <tr style=\"text-align: right;\">\n",
       "      <th></th>\n",
       "      <th>building_id</th>\n",
       "      <th>age_building</th>\n",
       "      <th>plinth_area_sq_ft</th>\n",
       "      <th>height_ft_pre_eq</th>\n",
       "      <th>height_ft_post_eq</th>\n",
       "      <th>land_surface_condition</th>\n",
       "      <th>foundation_type</th>\n",
       "      <th>roof_type</th>\n",
       "      <th>ground_floor_type</th>\n",
       "      <th>other_floor_type</th>\n",
       "      <th>position</th>\n",
       "      <th>plan_configuration</th>\n",
       "      <th>superstructure</th>\n",
       "      <th>floors_change</th>\n",
       "      <th>height_change</th>\n",
       "      <th>damage_level</th>\n",
       "      <th>distance</th>\n",
       "    </tr>\n",
       "  </thead>\n",
       "  <tbody>\n",
       "    <tr>\n",
       "      <th>0</th>\n",
       "      <td>120101000031</td>\n",
       "      <td>4.483302</td>\n",
       "      <td>5.950643</td>\n",
       "      <td>2.197225</td>\n",
       "      <td>9</td>\n",
       "      <td>Flat</td>\n",
       "      <td>BCO</td>\n",
       "      <td>BT_L/H</td>\n",
       "      <td>g_Mud</td>\n",
       "      <td>Not applicable</td>\n",
       "      <td>Not attached</td>\n",
       "      <td>Rectangular</td>\n",
       "      <td>s_origin</td>\n",
       "      <td>0</td>\n",
       "      <td>0</td>\n",
       "      <td>1</td>\n",
       "      <td>653.306926</td>\n",
       "    </tr>\n",
       "    <tr>\n",
       "      <th>1</th>\n",
       "      <td>120101000041</td>\n",
       "      <td>4.483302</td>\n",
       "      <td>5.743003</td>\n",
       "      <td>2.197225</td>\n",
       "      <td>9</td>\n",
       "      <td>Flat</td>\n",
       "      <td>BCO</td>\n",
       "      <td>BT_L/H</td>\n",
       "      <td>g_Mud</td>\n",
       "      <td>Not applicable</td>\n",
       "      <td>Not attached</td>\n",
       "      <td>Rectangular</td>\n",
       "      <td>s_origin</td>\n",
       "      <td>0</td>\n",
       "      <td>0</td>\n",
       "      <td>1</td>\n",
       "      <td>653.306926</td>\n",
       "    </tr>\n",
       "    <tr>\n",
       "      <th>2</th>\n",
       "      <td>120101000051</td>\n",
       "      <td>5.486347</td>\n",
       "      <td>5.730100</td>\n",
       "      <td>2.197225</td>\n",
       "      <td>9</td>\n",
       "      <td>Flat</td>\n",
       "      <td>BCO</td>\n",
       "      <td>BT_L/H</td>\n",
       "      <td>g_Mud</td>\n",
       "      <td>Not applicable</td>\n",
       "      <td>Not attached</td>\n",
       "      <td>Rectangular</td>\n",
       "      <td>s_origin</td>\n",
       "      <td>0</td>\n",
       "      <td>0</td>\n",
       "      <td>1</td>\n",
       "      <td>653.306926</td>\n",
       "    </tr>\n",
       "    <tr>\n",
       "      <th>3</th>\n",
       "      <td>120101000061</td>\n",
       "      <td>4.254409</td>\n",
       "      <td>5.375278</td>\n",
       "      <td>2.197225</td>\n",
       "      <td>9</td>\n",
       "      <td>Flat</td>\n",
       "      <td>BCO</td>\n",
       "      <td>BT_L/H</td>\n",
       "      <td>g_Mud</td>\n",
       "      <td>Not applicable</td>\n",
       "      <td>Not attached</td>\n",
       "      <td>Rectangular</td>\n",
       "      <td>s_origin</td>\n",
       "      <td>0</td>\n",
       "      <td>0</td>\n",
       "      <td>1</td>\n",
       "      <td>653.306926</td>\n",
       "    </tr>\n",
       "    <tr>\n",
       "      <th>4</th>\n",
       "      <td>120101000081</td>\n",
       "      <td>2.846050</td>\n",
       "      <td>5.634790</td>\n",
       "      <td>2.197225</td>\n",
       "      <td>9</td>\n",
       "      <td>Flat</td>\n",
       "      <td>BCO</td>\n",
       "      <td>BT_L/H</td>\n",
       "      <td>g_Mud</td>\n",
       "      <td>Not applicable</td>\n",
       "      <td>Not attached</td>\n",
       "      <td>Rectangular</td>\n",
       "      <td>s_origin</td>\n",
       "      <td>0</td>\n",
       "      <td>0</td>\n",
       "      <td>1</td>\n",
       "      <td>653.306926</td>\n",
       "    </tr>\n",
       "  </tbody>\n",
       "</table>\n",
       "</div>"
      ],
      "text/plain": [
       "    building_id  age_building  plinth_area_sq_ft  height_ft_pre_eq  \\\n",
       "0  120101000031      4.483302           5.950643          2.197225   \n",
       "1  120101000041      4.483302           5.743003          2.197225   \n",
       "2  120101000051      5.486347           5.730100          2.197225   \n",
       "3  120101000061      4.254409           5.375278          2.197225   \n",
       "4  120101000081      2.846050           5.634790          2.197225   \n",
       "\n",
       "   height_ft_post_eq land_surface_condition foundation_type roof_type  \\\n",
       "0                  9                   Flat             BCO    BT_L/H   \n",
       "1                  9                   Flat             BCO    BT_L/H   \n",
       "2                  9                   Flat             BCO    BT_L/H   \n",
       "3                  9                   Flat             BCO    BT_L/H   \n",
       "4                  9                   Flat             BCO    BT_L/H   \n",
       "\n",
       "  ground_floor_type other_floor_type      position plan_configuration  \\\n",
       "0             g_Mud   Not applicable  Not attached        Rectangular   \n",
       "1             g_Mud   Not applicable  Not attached        Rectangular   \n",
       "2             g_Mud   Not applicable  Not attached        Rectangular   \n",
       "3             g_Mud   Not applicable  Not attached        Rectangular   \n",
       "4             g_Mud   Not applicable  Not attached        Rectangular   \n",
       "\n",
       "  superstructure  floors_change  height_change  damage_level    distance  \n",
       "0       s_origin              0              0             1  653.306926  \n",
       "1       s_origin              0              0             1  653.306926  \n",
       "2       s_origin              0              0             1  653.306926  \n",
       "3       s_origin              0              0             1  653.306926  \n",
       "4       s_origin              0              0             1  653.306926  "
      ]
     },
     "execution_count": 4,
     "metadata": {},
     "output_type": "execute_result"
    }
   ],
   "source": [
    "df.head()"
   ]
  },
  {
   "cell_type": "code",
   "execution_count": 5,
   "metadata": {},
   "outputs": [
    {
     "name": "stdout",
     "output_type": "stream",
     "text": [
      "Train dataframe shape: (604777, 17)\n",
      "Test dataframe shape: (151195, 17)\n"
     ]
    }
   ],
   "source": [
    "# Split the data based on the remaining ratio of labels\n",
    "train_df, test_df = train_test_split(df, test_size=0.2, stratify=df['damage_level'], random_state=random_seed)\n",
    "\n",
    "# Print the shapes of the train and test dataframes\n",
    "print(\"Train dataframe shape:\", train_df.shape)\n",
    "print(\"Test dataframe shape:\", test_df.shape)"
   ]
  },
  {
   "cell_type": "code",
   "execution_count": 6,
   "metadata": {},
   "outputs": [
    {
     "name": "stdout",
     "output_type": "stream",
     "text": [
      "Data for damage level 1:\n",
      "(164202, 17)\n",
      "Data for damage level 2:\n",
      "(152364, 17)\n",
      "Data for damage level 3:\n",
      "(439406, 17)\n"
     ]
    }
   ],
   "source": [
    "grouped_data = df.groupby('damage_level')\n",
    "\n",
    "# Access the data for each damage level\n",
    "for damage_level, data in grouped_data:\n",
    "    print(f\"Data for damage level {damage_level}:\")\n",
    "    print(data.shape)"
   ]
  },
  {
   "cell_type": "code",
   "execution_count": 7,
   "metadata": {},
   "outputs": [
    {
     "name": "stdout",
     "output_type": "stream",
     "text": [
      "Data for damage level 1:\n",
      "(131362, 17)\n",
      "Data for damage level 2:\n",
      "(121891, 17)\n",
      "Data for damage level 3:\n",
      "(351524, 17)\n"
     ]
    }
   ],
   "source": [
    "grouped_data = train_df.groupby('damage_level')\n",
    "\n",
    "# Access the data for each damage level\n",
    "for damage_level, data in grouped_data:\n",
    "    print(f\"Data for damage level {damage_level}:\")\n",
    "    print(data.shape)"
   ]
  },
  {
   "cell_type": "code",
   "execution_count": 8,
   "metadata": {},
   "outputs": [
    {
     "name": "stdout",
     "output_type": "stream",
     "text": [
      "Data for damage level 1:\n",
      "(32840, 17)\n",
      "Data for damage level 2:\n",
      "(30473, 17)\n",
      "Data for damage level 3:\n",
      "(87882, 17)\n"
     ]
    }
   ],
   "source": [
    "grouped_data = test_df.groupby('damage_level')\n",
    "\n",
    "# Access the data for each damage level\n",
    "for damage_level, data in grouped_data:\n",
    "    print(f\"Data for damage level {damage_level}:\")\n",
    "    print(data.shape)"
   ]
  },
  {
   "cell_type": "code",
   "execution_count": 9,
   "metadata": {},
   "outputs": [],
   "source": [
    "file_save_path='Data/train_test/'\n",
    "train_df.to_csv(file_save_path+'train.csv',index=True)\n",
    "test_df.to_csv(file_save_path+'test.csv',index=True)"
   ]
  }
 ],
 "metadata": {
  "kernelspec": {
   "display_name": "multilayer",
   "language": "python",
   "name": "python3"
  },
  "language_info": {
   "codemirror_mode": {
    "name": "ipython",
    "version": 3
   },
   "file_extension": ".py",
   "mimetype": "text/x-python",
   "name": "python",
   "nbconvert_exporter": "python",
   "pygments_lexer": "ipython3",
   "version": "3.12.3"
  }
 },
 "nbformat": 4,
 "nbformat_minor": 2
}
