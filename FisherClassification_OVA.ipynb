{
 "cells": [
  {
   "cell_type": "code",
   "execution_count": null,
   "metadata": {},
   "outputs": [],
   "source": [
    "import numpy as np\n",
    "import pandas as pd\n",
    "import csv\n",
    "import pickle\n",
    "from transposeToDummy import transposeToDummy"
   ]
  },
  {
   "cell_type": "code",
   "execution_count": null,
   "metadata": {},
   "outputs": [],
   "source": [
    "# Data initialization\n",
    "sigma=np.array([[1,0],[0,1]])\n",
    "beta_mu=np.array([[1,0],[0,1]])"
   ]
  },
  {
   "cell_type": "code",
   "execution_count": null,
   "metadata": {},
   "outputs": [],
   "source": [
    "# Linear combination function\n",
    "def linear_combination(a):\n",
    "    global sigma, beta_mu\n",
    "    numerator = a.T @ beta_mu @ a\n",
    "    denominator = a.T @ sigma @ a\n",
    "    return numerator/denominator\n",
    "    "
   ]
  },
  {
   "cell_type": "code",
   "execution_count": null,
   "metadata": {},
   "outputs": [],
   "source": [
    "# Load data\n",
    "path='Data/'\n",
    "df=pd.read_csv(path+'eq2015_modify_category.csv')\n",
    "df=transposeToDummy(df)"
   ]
  }
 ],
 "metadata": {
  "language_info": {
   "name": "python"
  }
 },
 "nbformat": 4,
 "nbformat_minor": 2
}
