{
 "cells": [
  {
   "cell_type": "code",
   "execution_count": 1,
   "metadata": {},
   "outputs": [],
   "source": [
    "import numpy as np\n",
    "import pandas as pd\n",
    "import csv\n",
    "import pickle\n",
    "from transposeToDummy import transposeToDummy\n",
    "from sklearn.model_selection import train_test_split\n",
    "import torch\n",
    "import torch.nn as nn\n",
    "from tqdm import tqdm"
   ]
  },
  {
   "cell_type": "code",
   "execution_count": 2,
   "metadata": {},
   "outputs": [],
   "source": [
    "# program parameters\n",
    "feature_size = 23\n",
    "random_seed = 42\n",
    "learning_rate = 0.01\n",
    "epochs = 10000"
   ]
  },
  {
   "cell_type": "code",
   "execution_count": 3,
   "metadata": {},
   "outputs": [],
   "source": [
    "# Device configuration\n",
    "device = torch.device('cuda' if torch.cuda.is_available() else 'cpu')"
   ]
  },
  {
   "cell_type": "code",
   "execution_count": 4,
   "metadata": {},
   "outputs": [],
   "source": [
    "# Data initialization\n",
    "sigma=np.array([[1,0],[0,1]])\n",
    "beta_mu=np.array([[1,0],[0,1]])"
   ]
  },
  {
   "cell_type": "code",
   "execution_count": 5,
   "metadata": {},
   "outputs": [],
   "source": []
  },
  {
   "cell_type": "code",
   "execution_count": 6,
   "metadata": {},
   "outputs": [],
   "source": [
    "# Linear combination function\n",
    "def linear_combination(a):\n",
    "    global sigma, beta_mu\n",
    "    numerator=a.T@beta_mu@a\n",
    "    denominator=a.T@sigma@a\n",
    "\n",
    "    # We have minimzer. So, we need to return negative value\n",
    "    return -numerator/denominator\n",
    "    "
   ]
  },
  {
   "cell_type": "code",
   "execution_count": 7,
   "metadata": {},
   "outputs": [],
   "source": [
    "# Load data\n",
    "path='Data/'\n",
    "df=pd.read_csv(path+'eq2015_modify_category.csv')"
   ]
  },
  {
   "cell_type": "code",
   "execution_count": 8,
   "metadata": {},
   "outputs": [],
   "source": [
    "# reduce the size of the data\n",
    "df=df.sample(frac=0.01, random_state=random_seed)"
   ]
  },
  {
   "cell_type": "code",
   "execution_count": 9,
   "metadata": {},
   "outputs": [
    {
     "name": "stdout",
     "output_type": "stream",
     "text": [
      "Training set shape: (6048, 21)\n",
      "Testing set shape: (1512, 21)\n"
     ]
    }
   ],
   "source": [
    "# Split the dataframe into training and testing sets\n",
    "df, test_df = train_test_split(df, test_size=0.2, random_state=random_seed)\n",
    "\n",
    "# Print the shapes of the resulting dataframes\n",
    "print(\"Training set shape:\", df.shape)\n",
    "print(\"Testing set shape:\", test_df.shape)"
   ]
  },
  {
   "cell_type": "code",
   "execution_count": 10,
   "metadata": {},
   "outputs": [],
   "source": [
    "# Split by label\n",
    "grouped_data = df.groupby('damage_level')\n",
    "\n",
    "# Initialize variables\n",
    "S_ms=[]\n",
    "mu_ms=[]\n",
    "total_ms=0\n",
    "msdf=df.drop(columns=['damage_level'])\n",
    "msdf=transposeToDummy(msdf,toNumpy=False)\n",
    "total_mean=msdf.mean()\n",
    "\n",
    "\n",
    "for label, data in grouped_data:\n",
    "    # drop damage_level column\n",
    "    data=data.drop(columns=['damage_level'])\n",
    "    \n",
    "    # transpose to dummy\n",
    "    data=transposeToDummy(data,toNumpy=False)\n",
    "    \n",
    "    # calculate S_m\n",
    "    S_ms.append((data.shape[0]-1)*data.cov())\n",
    "    total_ms+=data.shape[0]-1\n",
    "\n",
    "    # calculate mu_m\n",
    "    mean_ms=data.mean()-total_mean\n",
    "    mean_ms=mean_ms.to_frame()\n",
    "    mu_ms.append((data.shape[0])*(mean_ms @ mean_ms.T))\n",
    "    \n",
    "# calculate sigma\n",
    "sigma_ms=sum(S_ms)/total_ms\n",
    "\n",
    "# calculate beta_mu\n",
    "beta_mu_ms=sum(mu_ms)/(total_ms+len(grouped_data))\n"
   ]
  },
  {
   "cell_type": "code",
   "execution_count": 11,
   "metadata": {},
   "outputs": [],
   "source": [
    "# Convert to tensor\n",
    "sigma=torch.tensor(sigma_ms.values)\n",
    "beta_mu=torch.tensor(beta_mu_ms.values)"
   ]
  },
  {
   "cell_type": "code",
   "execution_count": 12,
   "metadata": {},
   "outputs": [],
   "source": [
    "# move data to device\n",
    "sigma=sigma.to(device)\n",
    "beta_mu=beta_mu.to(device)\n",
    "a=a.to(device)"
   ]
  },
  {
   "cell_type": "code",
   "execution_count": 13,
   "metadata": {},
   "outputs": [
    {
     "name": "stderr",
     "output_type": "stream",
     "text": [
      "C:\\Users\\49228\\AppData\\Local\\Temp\\ipykernel_38588\\3775010537.py:2: UserWarning: To copy construct from a tensor, it is recommended to use sourceTensor.clone().detach() or sourceTensor.clone().detach().requires_grad_(True), rather than torch.tensor(sourceTensor).\n",
      "  a_optim = torch.tensor(a, requires_grad=True)\n"
     ]
    }
   ],
   "source": [
    "# Create a new tensor that requires gradients from the original tensor a\n",
    "a_optim = torch.tensor(a, requires_grad=True)\n",
    "\n",
    "# Update the optimizer to use the new tensor\n",
    "optimizer = torch.optim.SGD([a_optim], lr=learning_rate)\n"
   ]
  },
  {
   "cell_type": "code",
   "execution_count": 22,
   "metadata": {},
   "outputs": [
    {
     "name": "stderr",
     "output_type": "stream",
     "text": [
      " 11%|█         | 1066/10000 [00:02<00:19, 454.41it/s]"
     ]
    },
    {
     "name": "stdout",
     "output_type": "stream",
     "text": [
      "Epoch [1000/10000], Loss: 0.0017\n",
      "a did not change\n"
     ]
    },
    {
     "name": "stderr",
     "output_type": "stream",
     "text": [
      " 21%|██        | 2107/10000 [00:04<00:12, 626.40it/s]"
     ]
    },
    {
     "name": "stdout",
     "output_type": "stream",
     "text": [
      "Epoch [2000/10000], Loss: 0.0017\n",
      "a did not change\n"
     ]
    },
    {
     "name": "stderr",
     "output_type": "stream",
     "text": [
      " 31%|███       | 3105/10000 [00:05<00:10, 650.48it/s]"
     ]
    },
    {
     "name": "stdout",
     "output_type": "stream",
     "text": [
      "Epoch [3000/10000], Loss: 0.0017\n",
      "a did not change\n"
     ]
    },
    {
     "name": "stderr",
     "output_type": "stream",
     "text": [
      " 41%|████      | 4052/10000 [00:07<00:09, 617.91it/s]"
     ]
    },
    {
     "name": "stdout",
     "output_type": "stream",
     "text": [
      "Epoch [4000/10000], Loss: 0.0017\n",
      "a did not change\n"
     ]
    },
    {
     "name": "stderr",
     "output_type": "stream",
     "text": [
      " 51%|█████     | 5095/10000 [00:09<00:07, 647.28it/s]"
     ]
    },
    {
     "name": "stdout",
     "output_type": "stream",
     "text": [
      "Epoch [5000/10000], Loss: 0.0017\n",
      "a did not change\n"
     ]
    },
    {
     "name": "stderr",
     "output_type": "stream",
     "text": [
      " 61%|██████    | 6100/10000 [00:10<00:06, 586.86it/s]"
     ]
    },
    {
     "name": "stdout",
     "output_type": "stream",
     "text": [
      "Epoch [6000/10000], Loss: 0.0017\n",
      "a did not change\n"
     ]
    },
    {
     "name": "stderr",
     "output_type": "stream",
     "text": [
      " 71%|███████   | 7105/10000 [00:12<00:04, 677.46it/s]"
     ]
    },
    {
     "name": "stdout",
     "output_type": "stream",
     "text": [
      "Epoch [7000/10000], Loss: 0.0017\n",
      "a did not change\n"
     ]
    },
    {
     "name": "stderr",
     "output_type": "stream",
     "text": [
      " 81%|████████  | 8093/10000 [00:13<00:02, 666.36it/s]"
     ]
    },
    {
     "name": "stdout",
     "output_type": "stream",
     "text": [
      "Epoch [8000/10000], Loss: 0.0017\n",
      "a did not change\n"
     ]
    },
    {
     "name": "stderr",
     "output_type": "stream",
     "text": [
      " 91%|█████████ | 9070/10000 [00:15<00:01, 580.26it/s]"
     ]
    },
    {
     "name": "stdout",
     "output_type": "stream",
     "text": [
      "Epoch [9000/10000], Loss: 0.0017\n",
      "a did not change\n"
     ]
    },
    {
     "name": "stderr",
     "output_type": "stream",
     "text": [
      "100%|██████████| 10000/10000 [00:17<00:00, 588.17it/s]"
     ]
    },
    {
     "name": "stdout",
     "output_type": "stream",
     "text": [
      "Epoch [10000/10000], Loss: 0.0017\n",
      "a did not change\n"
     ]
    },
    {
     "name": "stderr",
     "output_type": "stream",
     "text": [
      "\n"
     ]
    }
   ],
   "source": [
    "# Training\n",
    "previous_a=a.clone()\n",
    "previous_a=previous_a.cpu().detach().numpy()\n",
    "for epoch in tqdm(range(epochs)):\n",
    "    # Forward pass\n",
    "    output = linear_combination(a)\n",
    "    \n",
    "    # Loss\n",
    "    loss = output\n",
    "    \n",
    "    # Backward pass\n",
    "    optimizer.zero_grad()\n",
    "    loss.backward()\n",
    "    optimizer.step()\n",
    "    \n",
    "    if (epoch+1) % 1000 == 0:\n",
    "        print ('Epoch [{}/{}], Loss: {:.4f}'.format(epoch+1, epochs, loss.item()))\n",
    "        ms_a=a.cpu().detach().numpy()\n",
    "        if np.array_equal(previous_a, ms_a):\n",
    "            print('a did not change')"
   ]
  },
  {
   "cell_type": "code",
   "execution_count": null,
   "metadata": {},
   "outputs": [],
   "source": [
    "# Maximize the vale\n",
    "result=minimize(linear_combination,a)"
   ]
  },
  {
   "cell_type": "code",
   "execution_count": null,
   "metadata": {},
   "outputs": [],
   "source": [
    "print(result.x)"
   ]
  },
  {
   "cell_type": "code",
   "execution_count": null,
   "metadata": {},
   "outputs": [
    {
     "ename": "NameError",
     "evalue": "name 'features' is not defined",
     "output_type": "error",
     "traceback": [
      "\u001b[1;31m---------------------------------------------------------------------------\u001b[0m",
      "\u001b[1;31mNameError\u001b[0m                                 Traceback (most recent call last)",
      "Cell \u001b[1;32mIn[79], line 2\u001b[0m\n\u001b[0;32m      1\u001b[0m \u001b[38;5;66;03m# Get beta_mu\u001b[39;00m\n\u001b[1;32m----> 2\u001b[0m column_means \u001b[38;5;241m=\u001b[39m np\u001b[38;5;241m.\u001b[39mmean(features, axis\u001b[38;5;241m=\u001b[39m\u001b[38;5;241m0\u001b[39m)\n\u001b[0;32m      3\u001b[0m \u001b[38;5;28mprint\u001b[39m(column_means)\n",
      "\u001b[1;31mNameError\u001b[0m: name 'features' is not defined"
     ]
    }
   ],
   "source": [
    "# Get beta_mu\n",
    "column_means = np.mean(features, axis=0)\n",
    "print(column_means)"
   ]
  },
  {
   "cell_type": "code",
   "execution_count": null,
   "metadata": {},
   "outputs": [],
   "source": [
    "# Get sigma"
   ]
  }
 ],
 "metadata": {
  "kernelspec": {
   "display_name": "multilayer",
   "language": "python",
   "name": "python3"
  },
  "language_info": {
   "codemirror_mode": {
    "name": "ipython",
    "version": 3
   },
   "file_extension": ".py",
   "mimetype": "text/x-python",
   "name": "python",
   "nbconvert_exporter": "python",
   "pygments_lexer": "ipython3",
   "version": "3.12.3"
  }
 },
 "nbformat": 4,
 "nbformat_minor": 2
}
